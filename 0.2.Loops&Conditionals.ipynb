{
 "cells": [
  {
   "cell_type": "code",
   "execution_count": 1,
   "metadata": {},
   "outputs": [],
   "source": [
    "using Latexify"
   ]
  },
  {
   "cell_type": "markdown",
   "metadata": {},
   "source": [
    "# Loops and Conditional Statements in Julia\n",
    "__________"
   ]
  },
  {
   "cell_type": "markdown",
   "metadata": {},
   "source": [
    "### While Loops\n",
    "\n",
    "    while *condition*\n",
    "      *body*\n",
    "    end"
   ]
  },
  {
   "cell_type": "code",
   "execution_count": 2,
   "metadata": {},
   "outputs": [
    {
     "name": "stdout",
     "output_type": "stream",
     "text": [
      "1 2 3 4 5 6 7 8 9"
     ]
    },
    {
     "name": "stdout",
     "output_type": "stream",
     "text": [
      " 10 "
     ]
    }
   ],
   "source": [
    "n = 0\n",
    "while n < 10\n",
    "    n += 1\n",
    "    print(n, \" \")\n",
    "end"
   ]
  },
  {
   "cell_type": "markdown",
   "metadata": {},
   "source": [
    "### For Loops\n",
    "\n",
    "    for *var* in *loop variable*\n",
    "      *body*\n",
    "    end"
   ]
  },
  {
   "cell_type": "code",
   "execution_count": 3,
   "metadata": {},
   "outputs": [
    {
     "name": "stdout",
     "output_type": "stream",
     "text": [
      "1 2 3 4 5 6 7 8 9 10 "
     ]
    }
   ],
   "source": [
    "for n in 1:10\n",
    "    print(n, \" \")\n",
    "end"
   ]
  },
  {
   "cell_type": "code",
   "execution_count": 4,
   "metadata": {},
   "outputs": [
    {
     "name": "stdout",
     "output_type": "stream",
     "text": [
      "red green blue "
     ]
    }
   ],
   "source": [
    "colors = [\"red\", \"green\", \"blue\"]\n",
    "\n",
    "for color ∈ colors     # Note that we could replace ∈ (\\in) with either = or in \n",
    "    print(color, \" \")\n",
    "end "
   ]
  },
  {
   "cell_type": "code",
   "execution_count": 5,
   "metadata": {},
   "outputs": [
    {
     "data": {
      "text/latex": [
       "\\begin{equation}\n",
       "\\left[\n",
       "\\begin{array}{ccccc}\n",
       "2.0 & 3.0 & 4.0 & 5.0 & 6.0 \\\\\n",
       "3.0 & 4.0 & 5.0 & 6.0 & 7.0 \\\\\n",
       "4.0 & 5.0 & 6.0 & 7.0 & 8.0 \\\\\n",
       "5.0 & 6.0 & 7.0 & 8.0 & 9.0 \\\\\n",
       "6.0 & 7.0 & 8.0 & 9.0 & 10.0 \\\\\n",
       "\\end{array}\n",
       "\\right]\n",
       "\\end{equation}\n"
      ],
      "text/plain": [
       "L\"\\begin{equation}\n",
       "\\left[\n",
       "\\begin{array}{ccccc}\n",
       "2.0 & 3.0 & 4.0 & 5.0 & 6.0 \\\\\n",
       "3.0 & 4.0 & 5.0 & 6.0 & 7.0 \\\\\n",
       "4.0 & 5.0 & 6.0 & 7.0 & 8.0 \\\\\n",
       "5.0 & 6.0 & 7.0 & 8.0 & 9.0 \\\\\n",
       "6.0 & 7.0 & 8.0 & 9.0 & 10.0 \\\\\n",
       "\\end{array}\n",
       "\\right]\n",
       "\\end{equation}\n",
       "\""
      ]
     },
     "metadata": {},
     "output_type": "display_data"
    }
   ],
   "source": [
    "m, n = 5, 5\n",
    "A = zeros(m, n)\n",
    "\n",
    "for i ∈ 1:n\n",
    "    for j ∈ 1:m\n",
    "        A[i, j] = i + j\n",
    "    end\n",
    "end\n",
    "latexify(A)"
   ]
  },
  {
   "cell_type": "code",
   "execution_count": 6,
   "metadata": {},
   "outputs": [
    {
     "data": {
      "text/latex": [
       "\\begin{equation}\n",
       "\\left[\n",
       "\\begin{array}{ccccc}\n",
       "2.0 & 3.0 & 4.0 & 5.0 & 6.0 \\\\\n",
       "3.0 & 4.0 & 5.0 & 6.0 & 7.0 \\\\\n",
       "4.0 & 5.0 & 6.0 & 7.0 & 8.0 \\\\\n",
       "5.0 & 6.0 & 7.0 & 8.0 & 9.0 \\\\\n",
       "6.0 & 7.0 & 8.0 & 9.0 & 10.0 \\\\\n",
       "\\end{array}\n",
       "\\right]\n",
       "\\end{equation}\n"
      ],
      "text/plain": [
       "L\"\\begin{equation}\n",
       "\\left[\n",
       "\\begin{array}{ccccc}\n",
       "2.0 & 3.0 & 4.0 & 5.0 & 6.0 \\\\\n",
       "3.0 & 4.0 & 5.0 & 6.0 & 7.0 \\\\\n",
       "4.0 & 5.0 & 6.0 & 7.0 & 8.0 \\\\\n",
       "5.0 & 6.0 & 7.0 & 8.0 & 9.0 \\\\\n",
       "6.0 & 7.0 & 8.0 & 9.0 & 10.0 \\\\\n",
       "\\end{array}\n",
       "\\right]\n",
       "\\end{equation}\n",
       "\""
      ]
     },
     "metadata": {},
     "output_type": "display_data"
    }
   ],
   "source": [
    "# The same could have been done with\n",
    "B = zeros(m, n)\n",
    "\n",
    "for i ∈ 1:m, j ∈ 1:n\n",
    "    B[i, j] = i + j\n",
    "end\n",
    "latexify(B)"
   ]
  },
  {
   "cell_type": "code",
   "execution_count": 7,
   "metadata": {},
   "outputs": [
    {
     "data": {
      "text/latex": [
       "\\begin{equation}\n",
       "\\left[\n",
       "\\begin{array}{ccccc}\n",
       "2 & 3 & 4 & 5 & 6 \\\\\n",
       "3 & 4 & 5 & 6 & 7 \\\\\n",
       "4 & 5 & 6 & 7 & 8 \\\\\n",
       "5 & 6 & 7 & 8 & 9 \\\\\n",
       "6 & 7 & 8 & 9 & 10 \\\\\n",
       "\\end{array}\n",
       "\\right]\n",
       "\\end{equation}\n"
      ],
      "text/plain": [
       "L\"\\begin{equation}\n",
       "\\left[\n",
       "\\begin{array}{ccccc}\n",
       "2 & 3 & 4 & 5 & 6 \\\\\n",
       "3 & 4 & 5 & 6 & 7 \\\\\n",
       "4 & 5 & 6 & 7 & 8 \\\\\n",
       "5 & 6 & 7 & 8 & 9 \\\\\n",
       "6 & 7 & 8 & 9 & 10 \\\\\n",
       "\\end{array}\n",
       "\\right]\n",
       "\\end{equation}\n",
       "\""
      ]
     },
     "metadata": {},
     "output_type": "display_data"
    }
   ],
   "source": [
    "# Or, in a more Julia way is with an aray comprehension:\n",
    "C = [i + j for i ∈ 1:m, j ∈ 1:n]    # No need to initialise matrix\n",
    "latexify(C)"
   ]
  },
  {
   "cell_type": "code",
   "execution_count": 8,
   "metadata": {},
   "outputs": [
    {
     "data": {
      "text/latex": [
       "\\begin{equation}\n",
       "\\left[\n",
       "\\begin{array}{c}\n",
       "2 \\\\\n",
       "\\end{array}\n",
       "\\right]\n",
       "\\end{equation}\n"
      ],
      "text/plain": [
       "L\"\\begin{equation}\n",
       "\\left[\n",
       "\\begin{array}{c}\n",
       "2 \\\\\n",
       "\\end{array}\n",
       "\\right]\n",
       "\\end{equation}\n",
       "\""
      ]
     },
     "metadata": {},
     "output_type": "display_data"
    },
    {
     "data": {
      "text/latex": [
       "\\begin{equation}\n",
       "\\left[\n",
       "\\begin{array}{c}\n",
       "2 \\\\\n",
       "3 \\\\\n",
       "\\end{array}\n",
       "\\right]\n",
       "\\end{equation}\n"
      ],
      "text/plain": [
       "L\"\\begin{equation}\n",
       "\\left[\n",
       "\\begin{array}{c}\n",
       "2 \\\\\n",
       "3 \\\\\n",
       "\\end{array}\n",
       "\\right]\n",
       "\\end{equation}\n",
       "\""
      ]
     },
     "metadata": {},
     "output_type": "display_data"
    },
    {
     "data": {
      "text/latex": [
       "\\begin{equation}\n",
       "\\left[\n",
       "\\begin{array}{cc}\n",
       "2 & 3 \\\\\n",
       "\\end{array}\n",
       "\\right]\n",
       "\\end{equation}\n"
      ],
      "text/plain": [
       "L\"\\begin{equation}\n",
       "\\left[\n",
       "\\begin{array}{cc}\n",
       "2 & 3 \\\\\n",
       "\\end{array}\n",
       "\\right]\n",
       "\\end{equation}\n",
       "\""
      ]
     },
     "metadata": {},
     "output_type": "display_data"
    },
    {
     "data": {
      "text/latex": [
       "\\begin{equation}\n",
       "\\left[\n",
       "\\begin{array}{cc}\n",
       "2 & 3 \\\\\n",
       "3 & 4 \\\\\n",
       "\\end{array}\n",
       "\\right]\n",
       "\\end{equation}\n"
      ],
      "text/plain": [
       "L\"\\begin{equation}\n",
       "\\left[\n",
       "\\begin{array}{cc}\n",
       "2 & 3 \\\\\n",
       "3 & 4 \\\\\n",
       "\\end{array}\n",
       "\\right]\n",
       "\\end{equation}\n",
       "\""
      ]
     },
     "metadata": {},
     "output_type": "display_data"
    },
    {
     "data": {
      "text/latex": [
       "\\begin{equation}\n",
       "\\left[\n",
       "\\begin{array}{ccc}\n",
       "2 & 3 & 4 \\\\\n",
       "\\end{array}\n",
       "\\right]\n",
       "\\end{equation}\n"
      ],
      "text/plain": [
       "L\"\\begin{equation}\n",
       "\\left[\n",
       "\\begin{array}{ccc}\n",
       "2 & 3 & 4 \\\\\n",
       "\\end{array}\n",
       "\\right]\n",
       "\\end{equation}\n",
       "\""
      ]
     },
     "metadata": {},
     "output_type": "display_data"
    },
    {
     "data": {
      "text/latex": [
       "\\begin{equation}\n",
       "\\left[\n",
       "\\begin{array}{ccc}\n",
       "2 & 3 & 4 \\\\\n",
       "3 & 4 & 5 \\\\\n",
       "\\end{array}\n",
       "\\right]\n",
       "\\end{equation}\n"
      ],
      "text/plain": [
       "L\"\\begin{equation}\n",
       "\\left[\n",
       "\\begin{array}{ccc}\n",
       "2 & 3 & 4 \\\\\n",
       "3 & 4 & 5 \\\\\n",
       "\\end{array}\n",
       "\\right]\n",
       "\\end{equation}\n",
       "\""
      ]
     },
     "metadata": {},
     "output_type": "display_data"
    },
    {
     "data": {
      "text/latex": [
       "\\begin{equation}\n",
       "\\left[\n",
       "\\begin{array}{cccc}\n",
       "2 & 3 & 4 & 5 \\\\\n",
       "\\end{array}\n",
       "\\right]\n",
       "\\end{equation}\n"
      ],
      "text/plain": [
       "L\"\\begin{equation}\n",
       "\\left[\n",
       "\\begin{array}{cccc}\n",
       "2 & 3 & 4 & 5 \\\\\n",
       "\\end{array}\n",
       "\\right]\n",
       "\\end{equation}\n",
       "\""
      ]
     },
     "metadata": {},
     "output_type": "display_data"
    },
    {
     "data": {
      "text/latex": [
       "\\begin{equation}\n",
       "\\left[\n",
       "\\begin{array}{cccc}\n",
       "2 & 3 & 4 & 5 \\\\\n",
       "3 & 4 & 5 & 6 \\\\\n",
       "\\end{array}\n",
       "\\right]\n",
       "\\end{equation}\n"
      ],
      "text/plain": [
       "L\"\\begin{equation}\n",
       "\\left[\n",
       "\\begin{array}{cccc}\n",
       "2 & 3 & 4 & 5 \\\\\n",
       "3 & 4 & 5 & 6 \\\\\n",
       "\\end{array}\n",
       "\\right]\n",
       "\\end{equation}\n",
       "\""
      ]
     },
     "metadata": {},
     "output_type": "display_data"
    }
   ],
   "source": [
    "for n ∈ 1:4, m ∈ 1:2\n",
    "    A = [i + j for i ∈ 1:m, j ∈ 1:n]\n",
    "    display(latexify(A))\n",
    "end"
   ]
  },
  {
   "cell_type": "markdown",
   "metadata": {},
   "source": [
    "________________\n",
    "\n",
    "### If-Else Statements\n",
    "\n",
    "    if *condition 1*\n",
    "      *option 1*\n",
    "    elseif *condition 2*\n",
    "      *option 2*\n",
    "    else\n",
    "      *option 2*\n",
    "    end"
   ]
  },
  {
   "cell_type": "code",
   "execution_count": 16,
   "metadata": {},
   "outputs": [
    {
     "data": {
      "text/plain": [
       "90"
      ]
     },
     "metadata": {},
     "output_type": "display_data"
    }
   ],
   "source": [
    "# Can also use ternary operator:\n",
    "\n",
    " # a ? b : c\n",
    "\n",
    "# Which equates to:\n",
    "\n",
    " # if a\n",
    " #   b\n",
    " # else\n",
    " #   c\n",
    " # end\n",
    "\n",
    "x = 3\n",
    "y = 90\n",
    "\n",
    "(x > y) ? x : y"
   ]
  },
  {
   "cell_type": "code",
   "execution_count": 17,
   "metadata": {},
   "outputs": [
    {
     "name": "stdout",
     "output_type": "stream",
     "text": [
      "3 is less than 90\n"
     ]
    },
    {
     "data": {
      "text/plain": [
       "(false, nothing)"
      ]
     },
     "metadata": {},
     "output_type": "display_data"
    }
   ],
   "source": [
    "# Also:\n",
    "# a && b (it means AND)\n",
    "\n",
    "(x > y) && println(\"$x is greater than $y\"), (x < y) && println(\"$x is less than $y\")"
   ]
  },
  {
   "cell_type": "markdown",
   "metadata": {},
   "source": [
    "_____________"
   ]
  }
 ],
 "metadata": {
  "kernelspec": {
   "display_name": "Julia 1.7.3",
   "language": "julia",
   "name": "julia-1.7"
  },
  "language_info": {
   "file_extension": ".jl",
   "mimetype": "application/julia",
   "name": "julia",
   "version": "1.7.3"
  },
  "orig_nbformat": 4
 },
 "nbformat": 4,
 "nbformat_minor": 2
}
