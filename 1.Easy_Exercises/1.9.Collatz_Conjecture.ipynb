{
 "cells": [
  {
   "cell_type": "markdown",
   "metadata": {},
   "source": [
    "#### Instructions\n",
    "\n",
    "The Collatz Conjecture or 3x+1 problem can be summarized as follows:\n",
    "\n",
    "Take any positive integer n. If n is even, divide n by 2 to get n / 2. If n is odd, multiply n by 3 and add 1 to get 3n + 1. Repeat the process indefinitely. The conjecture states that no matter which number you start with, you will always reach 1 eventually.\n",
    "\n",
    "Given a number n, return the number of steps required to reach 1.\n",
    "Examples\n",
    "\n",
    "Starting with n = 12, the steps would be as follows:\n",
    "\n",
    "    12\n",
    "    6\n",
    "    3\n",
    "    10\n",
    "    5\n",
    "    16\n",
    "    8\n",
    "    4\n",
    "    2\n",
    "    1\n",
    "\n",
    "Resulting in 9 steps. So for input n = 12, the return value would be 9."
   ]
  },
  {
   "cell_type": "code",
   "execution_count": 22,
   "metadata": {},
   "outputs": [
    {
     "data": {
      "text/plain": [
       "collatz_steps (generic function with 3 methods)"
      ]
     },
     "metadata": {},
     "output_type": "display_data"
    }
   ],
   "source": [
    "function collatz_steps(n::Int)::Int\n",
    "    step_number = 0\n",
    "    n ≤ 0 && throw(DomainError(\"n must be greater than or equal to 1\"))\n",
    "\n",
    "    while n ≠ 1\n",
    "        n % 2 == 0 ? n = (n / 2) : n = (n * 3 + 1)\n",
    "        step_number += 1\n",
    "    end\n",
    "    return step_number\n",
    "end"
   ]
  },
  {
   "cell_type": "code",
   "execution_count": 23,
   "metadata": {},
   "outputs": [
    {
     "name": "stdout",
     "output_type": "stream",
     "text": [
      "\u001b[0m\u001b[1mTest Summary:  | \u001b[22m\u001b[32m\u001b[1mPass  \u001b[22m\u001b[39m\u001b[36m\u001b[1mTotal\u001b[22m\u001b[39m\n",
      "Canonical data | \u001b[32m   6  \u001b[39m\u001b[36m    6\u001b[39m\n"
     ]
    },
    {
     "data": {
      "text/plain": [
       "Test.DefaultTestSet(\"Canonical data\", Any[], 6, false, false)"
      ]
     },
     "metadata": {},
     "output_type": "display_data"
    }
   ],
   "source": [
    "using Test\n",
    "\n",
    "# canonical data\n",
    "@testset \"Canonical data\" begin\n",
    "    @test collatz_steps(1) == 0\n",
    "    @test collatz_steps(16) == 4\n",
    "    @test collatz_steps(12) == 9\n",
    "    @test collatz_steps(1000000) == 152\n",
    "    @test_throws DomainError collatz_steps(0)\n",
    "    @test_throws DomainError collatz_steps(-15)\n",
    "end"
   ]
  }
 ],
 "metadata": {
  "kernelspec": {
   "display_name": "Julia 1.7.3",
   "language": "julia",
   "name": "julia-1.7"
  },
  "language_info": {
   "file_extension": ".jl",
   "mimetype": "application/julia",
   "name": "julia",
   "version": "1.7.3"
  },
  "orig_nbformat": 4,
  "vscode": {
   "interpreter": {
    "hash": "0a54084e6b208ee8d1ce3989ffc20924477a5f55f5a43e22e699a6741623861e"
   }
  }
 },
 "nbformat": 4,
 "nbformat_minor": 2
}
