{
 "cells": [
  {
   "cell_type": "markdown",
   "metadata": {},
   "source": [
    "#### Instructions\n",
    "Find the difference between the square of the sum and the sum of the squares of the first N natural numbers.\n",
    "\n",
    "The square of the sum of the first ten natural numbers is (1 + 2 + ... + 10)² = 55² = 3025.\n",
    "\n",
    "The sum of the squares of the first ten natural numbers is 1² + 2² + ... + 10² = 385.\n",
    "\n",
    "Hence the difference between the square of the sum of the first ten natural numbers and the sum of the squares of the first ten natural numbers is 3025 - 385 = 2640.\n",
    "\n",
    "You are not expected to discover an efficient solution to this yourself from first principles\n",
    "research is allowed, indeed, encouraged. Finding the best algorithm for the problem is a key skill in software engineering.\n"
   ]
  },
  {
   "cell_type": "code",
   "execution_count": 1,
   "metadata": {},
   "outputs": [
    {
     "data": {
      "text/plain": [
       "square_of_sum"
      ]
     },
     "metadata": {},
     "output_type": "display_data"
    }
   ],
   "source": [
    "\"Square the sum of the first `n` positive integers\"\n",
    "function square_of_sum(n::Int)::Int\n",
    "    return sum([i for i ∈ 1:n])^2\n",
    "end"
   ]
  },
  {
   "cell_type": "code",
   "execution_count": 2,
   "metadata": {},
   "outputs": [
    {
     "data": {
      "text/plain": [
       "sum_of_squares"
      ]
     },
     "metadata": {},
     "output_type": "display_data"
    }
   ],
   "source": [
    "\"Sum the squares of the first `n` positive integers\"\n",
    "function sum_of_squares(n::Int)::Int\n",
    "    return sum([i .^ 2 for i ∈ 1:n])\n",
    "end"
   ]
  },
  {
   "cell_type": "code",
   "execution_count": 3,
   "metadata": {},
   "outputs": [
    {
     "data": {
      "text/plain": [
       "difference"
      ]
     },
     "metadata": {},
     "output_type": "display_data"
    }
   ],
   "source": [
    "\"Subtract the sum of squares from square of the sum of the first `n` positive ints\"\n",
    "function difference(n::Int)::Int\n",
    "    return square_of_sum(n) - sum_of_squares(n)\n",
    "end"
   ]
  },
  {
   "cell_type": "code",
   "execution_count": null,
   "metadata": {},
   "outputs": [],
   "source": [
    "square_of_sum(n"
   ]
  }
 ],
 "metadata": {
  "kernelspec": {
   "display_name": "Julia 1.7.3",
   "language": "julia",
   "name": "julia-1.7"
  },
  "language_info": {
   "file_extension": ".jl",
   "mimetype": "application/julia",
   "name": "julia",
   "version": "1.7.3"
  },
  "orig_nbformat": 4
 },
 "nbformat": 4,
 "nbformat_minor": 2
}
