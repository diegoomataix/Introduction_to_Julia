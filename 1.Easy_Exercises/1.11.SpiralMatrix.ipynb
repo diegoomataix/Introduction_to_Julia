{
 "cells": [
  {
   "cell_type": "markdown",
   "metadata": {},
   "source": [
    "#### Instructions\n",
    "\n",
    "Given the size, return a square matrix of numbers in spiral order.\n",
    "\n",
    "The matrix should be filled with natural numbers, starting from 1 in the top-left corner, increasing in an inward, clockwise spiral order, like these examples:\n",
    "Examples\n",
    "Spiral matrix of size 3\n",
    "\n",
    "    1 2 3\n",
    "    8 9 4\n",
    "    7 6 5\n",
    "\n",
    "Spiral matrix of size 4\n",
    "\n",
    "    1  2  3 4\n",
    "    12 13 14 5\n",
    "    11 16 15 6\n",
    "    10  9  8 7\n",
    "\n"
   ]
  },
  {
   "cell_type": "code",
   "execution_count": 1,
   "metadata": {},
   "outputs": [],
   "source": [
    "using Latexify"
   ]
  },
  {
   "cell_type": "code",
   "execution_count": 9,
   "metadata": {},
   "outputs": [
    {
     "data": {
      "text/plain": [
       "spiral_matrix"
      ]
     },
     "metadata": {},
     "output_type": "display_data"
    }
   ],
   "source": [
    "\"Returns a spiral matrix of dimensions [n,n].\n",
    " If displatex=true, the matrix will be displayed using Latexify\"\n",
    "function spiral_matrix(n::Int, displatex=false)\n",
    "    n == 0 && return Matrix{Int}(undef, 0, 0)\n",
    "    n == 1 && return reshape([1], 1, 1)\n",
    "    top_row = reshape(1:n, 1, n)\n",
    "    matrix = rot180(spiral_matrix(n - 1)) .+ (2 * n - 1)\n",
    "    right_col = n + 1:2 * n - 1\n",
    "    displatex == true ? latexify([top_row; matrix right_col]) : [top_row; matrix right_col]\n",
    "end"
   ]
  },
  {
   "cell_type": "code",
   "execution_count": 11,
   "metadata": {},
   "outputs": [
    {
     "data": {
      "text/latex": [
       "\\begin{equation}\n",
       "\\left[\n",
       "\\begin{array}{ccc}\n",
       "1 & 2 & 3 \\\\\n",
       "8 & 9 & 4 \\\\\n",
       "7 & 6 & 5 \\\\\n",
       "\\end{array}\n",
       "\\right]\n",
       "\\end{equation}\n"
      ],
      "text/plain": [
       "L\"\\begin{equation}\n",
       "\\left[\n",
       "\\begin{array}{ccc}\n",
       "1 & 2 & 3 \\\\\n",
       "8 & 9 & 4 \\\\\n",
       "7 & 6 & 5 \\\\\n",
       "\\end{array}\n",
       "\\right]\n",
       "\\end{equation}\n",
       "\""
      ]
     },
     "metadata": {},
     "output_type": "display_data"
    }
   ],
   "source": [
    "spiral_matrix(3, true)"
   ]
  },
  {
   "cell_type": "code",
   "execution_count": 4,
   "metadata": {},
   "outputs": [
    {
     "name": "stdout",
     "output_type": "stream",
     "text": [
      "\u001b[0m\u001b[1mTest Summary:          | \u001b[22m\u001b[32m\u001b[1mPass  \u001b[22m\u001b[39m"
     ]
    },
    {
     "name": "stdout",
     "output_type": "stream",
     "text": [
      "\u001b[36m\u001b[1mTotal\u001b[22m\u001b[39m\n",
      "Different valid values | \u001b[32m   6  \u001b[39m"
     ]
    },
    {
     "name": "stdout",
     "output_type": "stream",
     "text": [
      "\u001b[36m    6\u001b[39m\n"
     ]
    },
    {
     "data": {
      "text/plain": [
       "Test.DefaultTestSet(\"Different valid values\", Any[Test.DefaultTestSet(\"Empty spiral\", Any[], 1, false, false), Test.DefaultTestSet(\"Trivial spiral\", Any[], 1, false, false), Test.DefaultTestSet(\"Spiral of size 2\", Any[], 1, false, false), Test.DefaultTestSet(\"Spiral of size 3\", Any[], 1, false, false), Test.DefaultTestSet(\"Spiral of size 4\", Any[], 1, false, false), Test.DefaultTestSet(\"Spiral of size 5\", Any[], 1, false, false)], 0, false, false)"
      ]
     },
     "metadata": {},
     "output_type": "display_data"
    }
   ],
   "source": [
    "using Test\n",
    "\n",
    "@testset \"Different valid values\" begin\n",
    "    @testset \"Empty spiral\" begin\n",
    "        @test spiral_matrix(0) == Matrix{Int}(undef,0,0)\n",
    "    end\n",
    "    @testset \"Trivial spiral\" begin\n",
    "        @test spiral_matrix(1) == reshape([1],(1,1))\n",
    "    end\n",
    "    @testset \"Spiral of size 2\" begin\n",
    "        @test spiral_matrix(2) == [1 2; 4 3]\n",
    "    end\n",
    "    @testset \"Spiral of size 3\" begin\n",
    "        @test spiral_matrix(3) == [1 2 3; 8 9 4; 7 6 5]\n",
    "    end\n",
    "    @testset \"Spiral of size 4\" begin\n",
    "        @test spiral_matrix(4) == [1 2 3 4; 12 13 14 5; 11 16 15 6; 10 9 8 7]\n",
    "    end\n",
    "    @testset \"Spiral of size 5\" begin\n",
    "        @test spiral_matrix(5) == [1 2 3 4 5; 16 17 18 19 6; 15 24 25 20 7; 14 23 22 21 8; 13 12 11 10 9]\n",
    "    end\n",
    "end"
   ]
  }
 ],
 "metadata": {
  "kernelspec": {
   "display_name": "Julia 1.7.3",
   "language": "julia",
   "name": "julia-1.7"
  },
  "language_info": {
   "file_extension": ".jl",
   "mimetype": "application/julia",
   "name": "julia",
   "version": "1.7.3"
  },
  "orig_nbformat": 4
 },
 "nbformat": 4,
 "nbformat_minor": 2
}
