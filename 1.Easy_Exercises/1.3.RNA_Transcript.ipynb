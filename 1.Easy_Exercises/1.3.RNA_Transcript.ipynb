{
 "cells": [
  {
   "cell_type": "markdown",
   "metadata": {},
   "source": [
    "#### Instructions\n",
    "\n",
    "Given a DNA strand, return its RNA complement (per RNA transcription).\n",
    "\n",
    "Both DNA and RNA strands are a sequence of nucleotides.\n",
    "\n",
    "The four nucleotides found in DNA are adenine (A), cytosine (C), guanine (G) and thymine (T).\n",
    "\n",
    "The four nucleotides found in RNA are adenine (A), cytosine (C), guanine (G) and uracil (U).\n",
    "\n",
    "Given a DNA strand, its transcribed RNA strand is formed by replacing each nucleotide with its complement:\n",
    "\n",
    "    G -> C\n",
    "    C -> G\n",
    "    T -> A\n",
    "    A -> U\n"
   ]
  },
  {
   "cell_type": "code",
   "execution_count": 1,
   "metadata": {},
   "outputs": [
    {
     "data": {
      "text/plain": [
       "to_rna (generic function with 1 method)"
      ]
     },
     "metadata": {},
     "output_type": "display_data"
    }
   ],
   "source": [
    "key = Dict{Char, Char}('G' => 'C', 'C' => 'G', 'T' => 'A', 'A' => 'U')\n",
    "\n",
    "function to_rna(dna)\n",
    "    if (dna == \"\") || (sum([haskey(key, (dna[i])) for i ∈ 1:length(dna)]) == length(dna))\n",
    "        dna == \"\" ? \"\" : join([key[(dna[i])] for i ∈ 1:length(dna)])\n",
    "    else\n",
    "        throw(error())\n",
    "    end \n",
    "end"
   ]
  },
  {
   "cell_type": "code",
   "execution_count": 2,
   "metadata": {},
   "outputs": [
    {
     "name": "stdout",
     "output_type": "stream",
     "text": [
      "\u001b[0m\u001b[1mTest Summary:         | \u001b[22m\u001b[32m\u001b[1mPass  \u001b[22m\u001b[39m\u001b[36m\u001b[1mTotal\u001b[22m\u001b[39m\n",
      "basic transformations | \u001b[32m   5  \u001b[39m\u001b[36m    5\u001b[39m\n",
      "\u001b[0m\u001b[1mTest Summary:  | \u001b[22m\u001b[32m\u001b[1mPass  \u001b[22m\u001b[39m\u001b[36m\u001b[1mTotal\u001b[22m\u001b[39m\n",
      "rna complement | \u001b[32m   1  \u001b[39m\u001b[36m    1\u001b[39m\n"
     ]
    },
    {
     "name": "stdout",
     "output_type": "stream",
     "text": [
      "\u001b[0m\u001b[1mTest Summary:  | \u001b[22m\u001b[32m\u001b[1mPass  \u001b[22m\u001b[39m\u001b[36m\u001b[1mTotal\u001b[22m\u001b[39m\n",
      "error handling | \u001b[32m   3  \u001b[39m\u001b[36m    3\u001b[39m\n"
     ]
    },
    {
     "data": {
      "text/plain": [
       "Test.DefaultTestSet(\"error handling\", Any[Test.DefaultTestSet(\"dna correctly handles invalid input\", Any[], 1, false, false), Test.DefaultTestSet(\"dna correctly handles completely invalid input\", Any[], 1, false, false), Test.DefaultTestSet(\"dna correctly handles partially invalid input\", Any[], 1, false, false)], 0, false, false)"
      ]
     },
     "metadata": {},
     "output_type": "display_data"
    }
   ],
   "source": [
    "using Test\n",
    "\n",
    "@testset \"basic transformations\" begin\n",
    "\n",
    "    @testset \"empty rna sequence\" begin\n",
    "        @test to_rna(\"\") == \"\"\n",
    "    end\n",
    "\n",
    "    @testset \"rna complement of cytosine is guanine\" begin\n",
    "        @test to_rna(\"C\") == \"G\"\n",
    "    end\n",
    "\n",
    "\n",
    "    @testset \"rna complement of guanine is cytosine\" begin\n",
    "        @test to_rna(\"G\") == \"C\"\n",
    "    end\n",
    "\n",
    "    @testset \"rna complement of thymine is adenine\" begin\n",
    "        @test to_rna(\"T\") == \"A\"\n",
    "    end\n",
    "\n",
    "    @testset \"rna complement of adenine is uracil\" begin\n",
    "        @test to_rna(\"A\") == \"U\"\n",
    "    end\n",
    "\n",
    "end\n",
    "\n",
    "@testset \"rna complement\" begin\n",
    "    @test to_rna(\"ACGTGGTCTTAA\") == \"UGCACCAGAAUU\"\n",
    "end\n",
    "\n",
    "@testset \"error handling\" begin\n",
    "    \n",
    "    @testset \"dna correctly handles invalid input\" begin\n",
    "        @test_throws ErrorException to_rna(\"U\")\n",
    "    end\n",
    "    @testset \"dna correctly handles completely invalid input\" begin\n",
    "        @test_throws ErrorException to_rna(\"XXX\")\n",
    "    end\n",
    "    @testset \"dna correctly handles partially invalid input\" begin\n",
    "        @test_throws ErrorException to_rna(\"ACGTXXXCTTAA\")\n",
    "    end\n",
    "end  "
   ]
  }
 ],
 "metadata": {
  "kernelspec": {
   "display_name": "Julia 1.7.3",
   "language": "julia",
   "name": "julia-1.7"
  },
  "language_info": {
   "file_extension": ".jl",
   "mimetype": "application/julia",
   "name": "julia",
   "version": "1.7.3"
  },
  "orig_nbformat": 4
 },
 "nbformat": 4,
 "nbformat_minor": 2
}
