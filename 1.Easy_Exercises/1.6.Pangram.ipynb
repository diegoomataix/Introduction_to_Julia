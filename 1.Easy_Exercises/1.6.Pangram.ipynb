{
 "cells": [
  {
   "cell_type": "markdown",
   "metadata": {},
   "source": [
    "#### Instructions\n",
    "\n",
    "Determine if a sentence is a pangram. A pangram (Greek παν γράμμα, pan gramma, \"every letter\") is a sentence using every letter of the alphabet at least once. The best known English pangram is\n",
    "\n",
    "    The quick brown fox jumps over the lazy dog.\n",
    "\n",
    "The alphabet used consists of ASCII letters a to z, inclusive, and is case insensitive.\n"
   ]
  },
  {
   "cell_type": "code",
   "execution_count": 1,
   "metadata": {},
   "outputs": [
    {
     "data": {
      "text/plain": [
       "ispangram"
      ]
     },
     "metadata": {},
     "output_type": "display_data"
    }
   ],
   "source": [
    "\"\"\"\n",
    "Return `true` if `input` contains every alphabetic character (case insensitive).\n",
    "\n",
    "\"\"\"\n",
    "function ispangram(input::AbstractString)\n",
    "    'a':'z' ⊆ lowercase(input)\n",
    "end"
   ]
  },
  {
   "cell_type": "code",
   "execution_count": 2,
   "metadata": {},
   "outputs": [
    {
     "name": "stdout",
     "output_type": "stream",
     "text": [
      "\u001b[0m\u001b[1mTest Summary:  | \u001b[22m\u001b[32m\u001b[1mPass  \u001b[22m\u001b[39m\u001b[36m\u001b[1mTotal\u001b[22m\u001b[39m"
     ]
    },
    {
     "name": "stdout",
     "output_type": "stream",
     "text": [
      "\n",
      "empty sentence | \u001b[32m   1  \u001b[39m\u001b[36m    1\u001b[39m\n",
      "\u001b[0m\u001b[1mTest Summary:      | \u001b[22m\u001b[32m\u001b[1mPass  \u001b[22m\u001b[39m\u001b[36m\u001b[1mTotal\u001b[22m\u001b[39m\n",
      "perfect lower case | \u001b[32m   1  \u001b[39m\u001b[36m    1\u001b[39m\n",
      "\u001b[0m\u001b[1mTest Summary:                | \u001b[22m\u001b[32m\u001b[1mPass  \u001b[22m\u001b[39m\u001b[36m\u001b[1mTotal\u001b[22m\u001b[39m\n",
      "pangram with only lower case | \u001b[32m   1  \u001b[39m\u001b[36m    1\u001b[39m\n"
     ]
    },
    {
     "name": "stdout",
     "output_type": "stream",
     "text": [
      "\u001b[0m\u001b[1mTest Summary:         | \u001b[22m\u001b[32m\u001b[1mPass  \u001b[22m\u001b[39m\u001b[36m\u001b[1mTotal\u001b[22m\u001b[39m\n",
      "missing character 'x' | \u001b[32m   1  \u001b[39m\u001b[36m    1\u001b[39m\n",
      "\u001b[0m\u001b[1mTest Summary:                 | \u001b[22m\u001b[32m\u001b[1mPass  \u001b[22m\u001b[39m\u001b[36m\u001b[1mTotal\u001b[22m\u001b[39m\n",
      "another missing character 'x' | \u001b[32m   1  \u001b[39m\u001b[36m    1\u001b[39m\n",
      "\u001b[0m\u001b[1mTest Summary:         | \u001b[22m\u001b[32m\u001b[1mPass  \u001b[22m\u001b[39m\u001b[36m\u001b[1mTotal\u001b[22m\u001b[39m\n",
      "missing character 'h' | \u001b[32m   1  \u001b[39m\u001b[36m    1\u001b[39m\n",
      "\u001b[0m\u001b[1mTest Summary:            | \u001b[22m\u001b[32m\u001b[1mPass  \u001b[22m\u001b[39m\u001b[36m\u001b[1mTotal\u001b[22m\u001b[39m\n",
      "pangram with underscores | \u001b[32m   1  \u001b[39m\u001b[36m    1\u001b[39m\n",
      "\u001b[0m\u001b[1mTest Summary:        | \u001b[22m\u001b[32m\u001b[1mPass  \u001b[22m\u001b[39m\u001b[36m\u001b[1mTotal\u001b[22m\u001b[39m\n",
      "pangram with numbers | \u001b[32m   1  \u001b[39m\u001b[36m    1\u001b[39m\n",
      "\u001b[0m\u001b[1mTest Summary:                       | \u001b[22m\u001b[32m\u001b[1mPass  \u001b[22m\u001b[39m\u001b[36m\u001b[1mTotal\u001b[22m\u001b[39m\n",
      "missing letters replaced by numbers | \u001b[32m   1  \u001b[39m\u001b[36m    1\u001b[39m\n",
      "\u001b[0m\u001b[1mTest Summary:                           | \u001b[22m\u001b[32m\u001b[1mPass  \u001b[22m\u001b[39m\u001b[36m\u001b[1mTotal\u001b[22m\u001b[39m\n",
      "pangram with mixed case and punctuation | \u001b[32m   1  \u001b[39m\u001b[36m    1\u001b[39m\n",
      "\u001b[0m\u001b[1mTest Summary:                                                                        | \u001b[22m\u001b[32m\u001b[1mPass  \u001b[22m\u001b[39m\u001b[36m\u001b[1mTotal\u001b[22m\u001b[39m\n",
      "upper and lower case versions of the same character should not be counted separately | \u001b[32m   1  \u001b[39m\u001b[36m    1\u001b[39m\n"
     ]
    },
    {
     "name": "stdout",
     "output_type": "stream",
     "text": [
      "\u001b[0m\u001b[1mTest Summary:                                          | \u001b[22m\u001b[32m\u001b[1mPass  \u001b[22m\u001b[39m\u001b[36m\u001b[1mTotal\u001b[22m\u001b[39m\n",
      "a-m and A-M are 26 different letters but not a pangram | \u001b[32m   1  \u001b[39m\u001b[36m    1\u001b[39m\n",
      "\u001b[0m\u001b[1mTest Summary:                                         | \u001b[22m\u001b[32m\u001b[1mPass  \u001b[22m\u001b[39m\u001b[36m\u001b[1mTotal\u001b[22m\u001b[39m\n",
      "pangram with more than 26 letters (if case sensitive) | \u001b[32m   1  \u001b[39m\u001b[36m    1\u001b[39m\n",
      "\u001b[0m\u001b[1mTest Summary:                     | \u001b[22m\u001b[32m\u001b[1mPass  \u001b[22m\u001b[39m\u001b[36m\u001b[1mTotal\u001b[22m\u001b[39m\n",
      "letters that aren't part of ASCII | \u001b[32m   1  \u001b[39m\u001b[36m    1\u001b[39m\n"
     ]
    },
    {
     "data": {
      "text/plain": [
       "Test.DefaultTestSet(\"letters that aren't part of ASCII\", Any[], 1, false, false)"
      ]
     },
     "metadata": {},
     "output_type": "display_data"
    }
   ],
   "source": [
    "using Test\n",
    "\n",
    "\n",
    "@testset \"empty sentence\" begin\n",
    "    @test !ispangram(\"\")\n",
    "end\n",
    "\n",
    "@testset \"perfect lower case\" begin\n",
    "    @test ispangram(\"abcdefghijklmnopqrstuvwxyz\")\n",
    "end\n",
    "\n",
    "@testset \"pangram with only lower case\" begin\n",
    "    @test ispangram(\"the quick brown fox jumps over the lazy dog\")\n",
    "end\n",
    "\n",
    "@testset \"missing character 'x'\" begin\n",
    "    @test !ispangram(\"a quick movement of the enemy will jeopardize five gunboats\")\n",
    "end    \n",
    "\n",
    "@testset \"another missing character 'x'\" begin\n",
    "    @test !ispangram(\"the quick brown fish jumps over the lazy dog\")\n",
    "end\n",
    "\n",
    "@testset \"missing character 'h'\" begin\n",
    "    @test !ispangram(\"five boxing wizards jump quickly at it\")\n",
    "end\n",
    "\n",
    "@testset \"pangram with underscores\" begin\n",
    "    @test ispangram(\"the_quick_brown_fox_jumps_over_the_lazy_dog\")\n",
    "end\n",
    "\n",
    "@testset \"pangram with numbers\" begin\n",
    "    @test ispangram(\"the 1 quick brown fox jumps over the 2 lazy dogs\")\n",
    "end\n",
    "\n",
    "@testset \"missing letters replaced by numbers\" begin\n",
    "    @test !ispangram(\"7h3 qu1ck brown fox jumps ov3r 7h3 lazy dog\")\n",
    "end    \n",
    "\n",
    "@testset \"pangram with mixed case and punctuation\" begin\n",
    "    @test ispangram(\"\\\"Five quacking Zephyrs jolt my wax bed.\\\"\")\n",
    "end\n",
    "\n",
    "@testset \"upper and lower case versions of the same character should not be counted separately\" begin\n",
    "    @test !ispangram(\"the quick brown fox jumped over the lazy FOX\")\n",
    "end\n",
    "\n",
    "@testset \"a-m and A-M are 26 different letters but not a pangram\" begin\n",
    "    @test !ispangram(\"abcdefghijklm ABCDEFGHIJKLM\")\n",
    "end\n",
    "\n",
    "@testset \"pangram with more than 26 letters (if case sensitive)\" begin\n",
    "    @test ispangram(\"the 1 quick brown fox jumps Over the 2 lazy dogs\")\n",
    "end\n",
    "\n",
    "@testset \"letters that aren't part of ASCII\" begin\n",
    "    @test !ispangram(\"the 1 qüick bröwn föx jümps över the 2 läzy dögs\")\n",
    "end"
   ]
  }
 ],
 "metadata": {
  "kernelspec": {
   "display_name": "Julia 1.7.3",
   "language": "julia",
   "name": "julia-1.7"
  },
  "language_info": {
   "file_extension": ".jl",
   "mimetype": "application/julia",
   "name": "julia",
   "version": "1.7.3"
  },
  "orig_nbformat": 4
 },
 "nbformat": 4,
 "nbformat_minor": 2
}
