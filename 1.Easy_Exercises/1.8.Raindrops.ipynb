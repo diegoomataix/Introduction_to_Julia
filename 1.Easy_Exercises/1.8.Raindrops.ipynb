{
 "cells": [
  {
   "cell_type": "markdown",
   "metadata": {},
   "source": [
    "#### Instructions\n",
    "\n",
    "Your task is to convert a number into a string that contains raindrop sounds corresponding to certain potential factors. A factor is a number that evenly divides into another number, leaving no remainder. The simplest way to test if a one number is a factor of another is to use the modulo operation.\n",
    "\n",
    "The rules of raindrops are that if a given number:\n",
    "\n",
    "    has 3 as a factor, add 'Pling' to the result.\n",
    "    has 5 as a factor, add 'Plang' to the result.\n",
    "    has 7 as a factor, add 'Plong' to the result.\n",
    "    does not have any of 3, 5, or 7 as a factor, the result should be the digits of the number.\n",
    "\n",
    "Examples\n",
    "\n",
    "    28 has 7 as a factor, but not 3 or 5, so the result would be \"Plong\".\n",
    "    30 has both 3 and 5 as factors, but not 7, so the result would be \"PlingPlang\".\n",
    "    34 is not factored by 3, 5, or 7, so the result would be \"34\".\n"
   ]
  },
  {
   "cell_type": "code",
   "execution_count": 61,
   "metadata": {},
   "outputs": [
    {
     "ename": "ErrorException",
     "evalue": "syntax: colon expected in \"?\" expression",
     "output_type": "error",
     "traceback": [
      "syntax: colon expected in \"?\" expression\n",
      "\n",
      "Stacktrace:\n",
      "  [1] top-level scope\n",
      "    @ c:\\Engineering Software\\Introduction_to_Julia\\1.Easy_Exercises\\1.8.Raindrops.ipynb:4\n",
      "  [2] eval\n",
      "    @ .\\boot.jl:373 [inlined]\n",
      "  [3] include_string(mapexpr::typeof(REPL.softscope), mod::Module, code::String, filename::String)\n",
      "    @ Base .\\loading.jl:1196\n",
      "  [4] #invokelatest#2\n",
      "    @ .\\essentials.jl:716 [inlined]\n",
      "  [5] invokelatest\n",
      "    @ .\\essentials.jl:714 [inlined]\n",
      "  [6] (::VSCodeServer.var\"#164#165\"{VSCodeServer.NotebookRunCellArguments, String})()\n",
      "    @ VSCodeServer c:\\Users\\diego\\.vscode\\extensions\\julialang.language-julia-1.6.17\\scripts\\packages\\VSCodeServer\\src\\serve_notebook.jl:19\n",
      "  [7] withpath(f::VSCodeServer.var\"#164#165\"{VSCodeServer.NotebookRunCellArguments, String}, path::String)\n",
      "    @ VSCodeServer c:\\Users\\diego\\.vscode\\extensions\\julialang.language-julia-1.6.17\\scripts\\packages\\VSCodeServer\\src\\repl.jl:184\n",
      "  [8] notebook_runcell_request(conn::VSCodeServer.JSONRPC.JSONRPCEndpoint{Base.PipeEndpoint, Base.PipeEndpoint}, params::VSCodeServer.NotebookRunCellArguments)\n",
      "    @ VSCodeServer c:\\Users\\diego\\.vscode\\extensions\\julialang.language-julia-1.6.17\\scripts\\packages\\VSCodeServer\\src\\serve_notebook.jl:13\n",
      "  [9] dispatch_msg(x::VSCodeServer.JSONRPC.JSONRPCEndpoint{Base.PipeEndpoint, Base.PipeEndpoint}, dispatcher::VSCodeServer.JSONRPC.MsgDispatcher, msg::Dict{String, Any})\n",
      "    @ VSCodeServer.JSONRPC c:\\Users\\diego\\.vscode\\extensions\\julialang.language-julia-1.6.17\\scripts\\packages\\JSONRPC\\src\\typed.jl:67\n",
      " [10] serve_notebook(pipename::String, outputchannel_logger::Base.CoreLogging.SimpleLogger; crashreporting_pipename::String)\n",
      "    @ VSCodeServer c:\\Users\\diego\\.vscode\\extensions\\julialang.language-julia-1.6.17\\scripts\\packages\\VSCodeServer\\src\\serve_notebook.jl:136\n",
      " [11] top-level scope\n",
      "    @ c:\\Users\\diego\\.vscode\\extensions\\julialang.language-julia-1.6.17\\scripts\\notebook\\notebook.jl:32\n",
      " [12] include(mod::Module, _path::String)\n",
      "    @ Base .\\Base.jl:418\n",
      " [13] exec_options(opts::Base.JLOptions)\n",
      "    @ Base .\\client.jl:292\n",
      " [14] _start()\n",
      "    @ Base .\\client.jl:495"
     ]
    }
   ],
   "source": [
    "function raindrops(number)\n",
    "    sound = []\n",
    "    number % 3 == 0 ? push!(sound, \"Pling\") : sound = sound \n",
    "    number % 5 == 0 ? push!(sound, \"Plang\") : sound = sound\n",
    "    number % 7 == 0 ? push!(sound, \"Plong\") : sound = sound\n",
    "\n",
    "    length(sound) ≥ 1 ? (return join(sound)) : (return string(number))\n",
    "    return ret\n",
    "end"
   ]
  },
  {
   "cell_type": "code",
   "execution_count": 60,
   "metadata": {},
   "outputs": [
    {
     "name": "stdout",
     "output_type": "stream",
     "text": [
      "\u001b[0m\u001b[1mTest Summary:  | \u001b[22m\u001b[32m\u001b[1mPass  \u001b[22m\u001b[39m\u001b[36m\u001b[1mTotal\u001b[22m\u001b[39m\n",
      "detect numbers | \u001b[32m   3  \u001b[39m\u001b[36m    3\u001b[39m\n",
      "\u001b[0m\u001b[1mTest Summary: | \u001b[22m\u001b[32m\u001b[1mPass  \u001b[22m\u001b[39m\u001b[36m\u001b[1mTotal\u001b[22m\u001b[39m\n",
      "detect pling  | \u001b[32m   4  \u001b[39m\u001b[36m    4\u001b[39m\n",
      "\u001b[0m\u001b[1mTest Summary: | \u001b[22m\u001b[32m\u001b[1mPass  \u001b[22m\u001b[39m\u001b[36m\u001b[1mTotal\u001b[22m\u001b[39m\n",
      "detect plang  | \u001b[32m   4  \u001b[39m\u001b[36m    4\u001b[39m\n",
      "\u001b[0m\u001b[1mTest Summary: | \u001b[22m\u001b[32m\u001b[1mPass  \u001b[22m\u001b[39m\u001b[36m\u001b[1mTotal\u001b[22m\u001b[39m\n",
      "detect plong  | \u001b[32m   3  \u001b[39m\u001b[36m    3\u001b[39m\n",
      "\u001b[0m\u001b[1mTest Summary:          | \u001b[22m\u001b[32m\u001b[1mPass  \u001b[22m\u001b[39m\u001b[36m\u001b[1mTotal\u001b[22m\u001b[39m\n",
      "detect multiple sounds | "
     ]
    },
    {
     "name": "stdout",
     "output_type": "stream",
     "text": [
      "\u001b[32m   4  \u001b[39m\u001b[36m    4\u001b[39m\n"
     ]
    },
    {
     "data": {
      "text/plain": [
       "Test.DefaultTestSet(\"detect multiple sounds\", Any[Test.DefaultTestSet(\"the sound for 15 is PlingPlang as it has factors 3 and 5\", Any[], 1, false, false), Test.DefaultTestSet(\"the sound for 21 is PlingPlong as it has factors 3 and 7\", Any[], 1, false, false), Test.DefaultTestSet(\"the sound for 35 is PlangPlong as it has factors 5 and 7\", Any[], 1, false, false), Test.DefaultTestSet(\"the sound for 105 is PlingPlangPlong as it has factors 3, 5 and 7\", Any[], 1, false, false)], 0, false, false)"
      ]
     },
     "metadata": {},
     "output_type": "display_data"
    }
   ],
   "source": [
    "using Test\n",
    "\n",
    "@testset \"detect numbers\" begin\n",
    "    @testset \"the sound for 1 is 1\" begin\n",
    "      @test raindrops(1) == \"1\"\n",
    "    end\n",
    "    @testset \"2 to the power 3 does not make a raindrop sound as 3 is the exponent not the base\" begin\n",
    "      @test raindrops(8) == \"8\"\n",
    "    end\n",
    "    @testset \"the sound for 52 is 52\" begin\n",
    "      @test raindrops(52) == \"52\"\n",
    "    end\n",
    "end\n",
    "@testset \"detect pling\" begin\n",
    "    @testset \"the sound for 3 is Pling\" begin\n",
    "      @test raindrops(3) == \"Pling\"\n",
    "    end\n",
    "    @testset \"the sound for 6 is Pling as it has a factor 3\" begin\n",
    "      @test raindrops(6) == \"Pling\"\n",
    "    end\n",
    "    @testset \"the sound for 9 is Pling as it has a factor 3\" begin\n",
    "      @test raindrops(9) == \"Pling\"\n",
    "    end\n",
    "    @testset \"the sound for 27 is Pling as it has a factor 3\" begin\n",
    "      @test raindrops(27) == \"Pling\"\n",
    "    end\n",
    "end\n",
    "@testset \"detect plang\" begin\n",
    "    @testset \"the sound for 5 is Plang\" begin\n",
    "      @test raindrops(5) == \"Plang\"\n",
    "    end\n",
    "    @testset \"the sound for 10 is Plang as it has a factor 5\" begin\n",
    "      @test raindrops(10) == \"Plang\"\n",
    "    end\n",
    "    @testset \"the sound for 25 is Plang as it has a factor 5\" begin\n",
    "      @test raindrops(25) == \"Plang\"\n",
    "    end\n",
    "    @testset \"the sound for 3125 is Plang as it has a factor 5\" begin\n",
    "      @test raindrops(3125) == \"Plang\"\n",
    "    end\n",
    "end\n",
    "@testset \"detect plong\" begin\n",
    "    @testset \"the sound for 7 is Plong\" begin\n",
    "      @test raindrops(7) == \"Plong\"\n",
    "    end\n",
    "    @testset \"the sound for 14 is Plong as it has a factor of 7\" begin\n",
    "      @test raindrops(14) == \"Plong\"\n",
    "    end\n",
    "    @testset \"the sound for 49 is Plong as it has a factor 7\" begin\n",
    "      @test raindrops(49) == \"Plong\"\n",
    "    end\n",
    "end\n",
    "@testset \"detect multiple sounds\" begin\n",
    "    @testset \"the sound for 15 is PlingPlang as it has factors 3 and 5\" begin\n",
    "      @test raindrops(15) == \"PlingPlang\"\n",
    "    end\n",
    "    @testset \"the sound for 21 is PlingPlong as it has factors 3 and 7\" begin\n",
    "      @test raindrops(21) == \"PlingPlong\"\n",
    "    end\n",
    "    @testset \"the sound for 35 is PlangPlong as it has factors 5 and 7\" begin\n",
    "      @test raindrops(35) == \"PlangPlong\"\n",
    "    end\n",
    "    @testset \"the sound for 105 is PlingPlangPlong as it has factors 3, 5 and 7\" begin\n",
    "      @test raindrops(105) == \"PlingPlangPlong\"\n",
    "    end\n",
    "end"
   ]
  }
 ],
 "metadata": {
  "kernelspec": {
   "display_name": "Julia 1.7.3",
   "language": "julia",
   "name": "julia-1.7"
  },
  "language_info": {
   "file_extension": ".jl",
   "mimetype": "application/julia",
   "name": "julia",
   "version": "1.7.3"
  },
  "orig_nbformat": 4
 },
 "nbformat": 4,
 "nbformat_minor": 2
}
