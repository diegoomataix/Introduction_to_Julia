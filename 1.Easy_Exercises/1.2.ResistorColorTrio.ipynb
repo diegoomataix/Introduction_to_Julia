{
 "cells": [
  {
   "cell_type": "markdown",
   "metadata": {},
   "source": [
    "#### Instructions\n",
    "\n",
    "If you want to build something using a Raspberry Pi, you'll probably use resistors. For this exercise, you need to know only three things about them:\n",
    "\n",
    "    - Each resistor has a resistance resue.\n",
    "    - Resistors are small - so small in fact that if you printed the resistance resue on them, it would be hard to read. To get around this problem, manufacturers print color-coded bands onto the resistors to denote their resistance resues.\n",
    "    - Each band acts as a digit of a number. For example, if they printed a brown band (resue 1) followed by a green band (resue 5), it would translate to the number 15. In this exercise, you are going to create a helpful program so that you don't have to remember the resues of the bands. The program will take 3 colors as input, and outputs the correct resue, in ohms. The color bands are encoded as follows:\n",
    "\n",
    "    Black: 0\n",
    "    Brown: 1\n",
    "    Red: 2\n",
    "    Orange: 3\n",
    "    Yellow: 4\n",
    "    Green: 5\n",
    "    Blue: 6\n",
    "    Violet: 7\n",
    "    Grey: 8\n",
    "    White: 9\n",
    "\n",
    "In resistor-color duo you decoded the first two colors. For instance: orange-orange got the main resue 33. The third color stands for how many zeros need to be added to the main resue. The main resue plus the zeros gives us a resue in ohms. For the exercise it doesn't matter what ohms really are. For example:\n",
    "\n",
    "    - orange-orange-black would be 33 and no zeros, which becomes 33 ohms.\n",
    "    - orange-orange-red would be 33 and 2 zeros, which becomes 3300 ohms.\n",
    "    - orange-orange-orange would be 33 and 3 zeros, which becomes 33000 ohms.\n",
    "\n",
    "(If Math is your thing, you may want to think of the zeros as exponents of 10. If Math is not your thing, go with the zeros. It really is the same thing, just in plain English instead of Math lingo.)\n",
    "\n",
    "This exercise is about translating the colors into a label:\n",
    "\n",
    "    \"... ohms\"\n",
    "\n",
    "So an input of \"orange\", \"orange\", \"black\" should return:\n",
    "\n",
    "    \"33 ohms\"\n",
    "\n",
    "When we get more than a thousand ohms, we say \"kiloohms\". That's similar to saying \"kilometer\" for 1000 meters, and \"kilograms\" for 1000 grams. So an input of \"orange\", \"orange\", \"orange\" should return:\n",
    "\n",
    "    \"33 kiloohms\""
   ]
  },
  {
   "cell_type": "code",
   "execution_count": 103,
   "metadata": {},
   "outputs": [
    {
     "data": {
      "text/plain": [
       "label (generic function with 1 method)"
      ]
     },
     "metadata": {},
     "output_type": "display_data"
    }
   ],
   "source": [
    "function label(colors)\n",
    "    res = []\n",
    "    for color in colors\n",
    "        if color == \"black\"\n",
    "            push!(res, 0)\n",
    "        elseif color == \"brown\"\n",
    "            push!(res, 1)\n",
    "        elseif color == \"red\"\n",
    "            push!(res, 2)\n",
    "        elseif color == \"orange\"\n",
    "            push!(res, 3)\n",
    "        elseif color == \"yellow\"\n",
    "            push!(res, 4)\n",
    "        elseif color == \"green\"\n",
    "            push!(res, 5)\n",
    "        elseif color == \"blue\"\n",
    "            push!(res, 6)\n",
    "        elseif color == \"violet\"\n",
    "            push!(res, 7)\n",
    "        elseif color == \"grey\"\n",
    "            push!(res, 8)\n",
    "        elseif color == \"white\"\n",
    "            push!(res, 9)\n",
    "        else\n",
    "            println(\"Inresid color input\")\n",
    "        end\n",
    "    end\n",
    "    val1 = res[1]\n",
    "    val2 = res[2]\n",
    "    val3 = repeat('0', res[3])\n",
    "\n",
    "    resistance = parse(Int, \"$val1$val2$val3\")\n",
    "\n",
    "    if resistance ≥ 1000 && resistance % 1000 == 0\n",
    "        resistance = floor(Int, resistance / 1000)\n",
    "        return \"$resistance kiloohms\"\n",
    "    else\n",
    "        return \"$resistance ohms\"\n",
    "    end\n",
    "end"
   ]
  },
  {
   "cell_type": "code",
   "execution_count": 1,
   "metadata": {},
   "outputs": [
    {
     "data": {
      "text/plain": [
       "label (generic function with 1 method)"
      ]
     },
     "metadata": {},
     "output_type": "display_data"
    }
   ],
   "source": [
    "function label(colors)\n",
    "    key = Dict(\"black\" => 0, \"brown\" => 1, \"red\" => 2, \"orange\" => 3,\n",
    "               \"yellow\" => 4, \"green\" => 5, \"blue\" => 6, \"violet\" => 7,\n",
    "               \"grey\" => 8, \"white\" => 9)\n",
    "\n",
    "    value = (key[colors[1]] * 10 + key[colors[2]]) * 10^key[colors[3]]\n",
    "    value % 1000 == 0 ? \"$(Int64(value / 1000)) kiloohms\" : \"$value ohms\"\n",
    "end"
   ]
  },
  {
   "cell_type": "code",
   "execution_count": 2,
   "metadata": {},
   "outputs": [
    {
     "data": {
      "text/plain": [
       "\"2 kiloohms\""
      ]
     },
     "metadata": {},
     "output_type": "display_data"
    }
   ],
   "source": [
    "label([\"red\", \"black\", \"red\"])"
   ]
  }
 ],
 "metadata": {
  "kernelspec": {
   "display_name": "Julia 1.7.3",
   "language": "julia",
   "name": "julia-1.7"
  },
  "language_info": {
   "file_extension": ".jl",
   "mimetype": "application/julia",
   "name": "julia",
   "version": "1.7.3"
  },
  "orig_nbformat": 4
 },
 "nbformat": 4,
 "nbformat_minor": 2
}
