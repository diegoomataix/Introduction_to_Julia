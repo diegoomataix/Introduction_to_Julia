{
 "cells": [
  {
   "cell_type": "markdown",
   "metadata": {},
   "source": [
    "#### Instructions\n",
    "\n",
    "Reverse a string\n",
    "\n",
    "For example: input: \"cool\" output: \"looc\"\n",
    "Bonus\n",
    "\n",
    "Preserve grapheme clusters, i.e.\n",
    "\n",
    "myreverse(\"hi 👋🏾\") == \"👋🏾 ih\"\n",
    "myreverse(\"as⃝df̅\") == \"f̅ds⃝a\"\n",
    "\n",
    "You will probably find the Unicode stdlib useful for this bonus task.\n",
    "\n",
    "To enable the graphemes test, add const TEST_GRAPHEMES = true to the global scope of your file."
   ]
  },
  {
   "cell_type": "code",
   "execution_count": 15,
   "metadata": {},
   "outputs": [
    {
     "data": {
      "text/plain": [
       "true"
      ]
     },
     "metadata": {},
     "output_type": "display_data"
    }
   ],
   "source": [
    "using Unicode\n",
    "\n",
    "const TEST_GRAPHEMES = true"
   ]
  },
  {
   "cell_type": "code",
   "execution_count": 19,
   "metadata": {},
   "outputs": [
    {
     "data": {
      "text/plain": [
       "myreverse"
      ]
     },
     "metadata": {},
     "output_type": "display_data"
    }
   ],
   "source": [
    "\" Function to reverse a string \"\n",
    "function myreverse(str::AbstractString)::AbstractString\n",
    "    return str |> graphemes |> collect |> reverse |> join\n",
    "end"
   ]
  },
  {
   "cell_type": "code",
   "execution_count": 20,
   "metadata": {},
   "outputs": [
    {
     "name": "stdout",
     "output_type": "stream",
     "text": [
      "\u001b[0m\u001b[1mTest Summary:   | \u001b[22m\u001b[32m\u001b[1mPass  \u001b[22m\u001b[39m\u001b[36m\u001b[1mTotal\u001b[22m\u001b[39m\n",
      "an empty string | \u001b[32m   1  \u001b[39m\u001b[36m    1\u001b[39m\n",
      "\u001b[0m\u001b[1mTest Summary: | \u001b[22m\u001b[32m\u001b[1mPass  \u001b[22m\u001b[39m\u001b[36m\u001b[1mTotal\u001b[22m\u001b[39m\n",
      "a word        | \u001b[32m   1  \u001b[39m\u001b[36m    1\u001b[39m\n",
      "\u001b[0m\u001b[1mTest Summary:      | \u001b[22m\u001b[32m\u001b[1mPass  \u001b[22m\u001b[39m\u001b[36m\u001b[1mTotal\u001b[22m\u001b[39m\n",
      "a capitalized word | \u001b[32m   1  \u001b[39m\u001b[36m    1\u001b[39m\n",
      "\u001b[0m\u001b[1mTest Summary:               | \u001b[22m\u001b[32m\u001b[1mPass  \u001b[22m\u001b[39m\u001b[36m\u001b[1mTotal\u001b[22m\u001b[39m\n",
      "a sentence with punctuation | \u001b[32m   1  \u001b[39m\u001b[36m    1\u001b[39m\n",
      "\u001b[0m\u001b[1mTest Summary: | \u001b[22m\u001b[32m\u001b[1mPass  \u001b[22m\u001b[39m\u001b[36m\u001b[1mTotal\u001b[22m\u001b[39m\n",
      "a palindrome  | \u001b[32m   1  \u001b[39m\u001b[36m    1\u001b[39m\n",
      "\u001b[0m\u001b[1mTest Summary:      | \u001b[22m\u001b[32m\u001b[1mPass  \u001b[22m\u001b[39m\u001b[36m\u001b[1mTotal\u001b[22m\u001b[39m\n",
      "an even-sized word | \u001b[32m   1  \u001b[39m\u001b[36m    1\u001b[39m\n",
      "\u001b[0m\u001b[1mTest Summary:            | \u001b[22m\u001b[32m\u001b[1mPass  \u001b[22m\u001b[39m\u001b[36m\u001b[1mTotal\u001b[22m\u001b[39m\n",
      "reversing a string twice | \u001b[32m   1  \u001b[39m\u001b[36m    1\u001b[39m\n",
      "\u001b[0m\u001b[1mTest Summary: | \u001b[22m\u001b[32m\u001b[1mPass  \u001b[22m\u001b[39m\u001b[36m\u001b[1mTotal\u001b[22m\u001b[39m\n",
      "emoji         | \u001b[32m   1  \u001b[39m\u001b[36m    1\u001b[39m\n",
      "\u001b[0m\u001b[1mTest Summary: | \u001b[22m\u001b[32m\u001b[1mPass  \u001b[22m\u001b[39m\u001b[36m\u001b[1mTotal\u001b[22m\u001b[39m\n",
      "graphemes     | \u001b[32m   2  \u001b[39m\u001b[36m    2\u001b[39m\n"
     ]
    },
    {
     "data": {
      "text/plain": [
       "Test.DefaultTestSet(\"graphemes\", Any[], 2, false, false)"
      ]
     },
     "metadata": {},
     "output_type": "display_data"
    }
   ],
   "source": [
    "using Test\n",
    "\n",
    "@testset \"an empty string\" begin\n",
    "    @test myreverse(\"\") == \"\"\n",
    "end\n",
    "@testset \"a word\" begin\n",
    "    @test myreverse(\"robot\") == \"tobor\"\n",
    "end\n",
    "@testset \"a capitalized word\" begin\n",
    "    @test myreverse(\"Ramen\") == \"nemaR\"\n",
    "end\n",
    "@testset \"a sentence with punctuation\" begin\n",
    "    @test myreverse(\"I'm hungry!\") == \"!yrgnuh m'I\"\n",
    "end\n",
    "@testset \"a palindrome\" begin\n",
    "    @test myreverse(\"racecar\") == \"racecar\"\n",
    "end\n",
    "@testset \"an even-sized word\" begin\n",
    "    @test myreverse(\"drawer\") == \"reward\"\n",
    "end\n",
    "@testset \"reversing a string twice\" begin\n",
    "    @test myreverse(myreverse(\"gift\")) == \"gift\"\n",
    "end\n",
    "@testset \"emoji\" begin\n",
    "    @test myreverse(\"hi 🐱\") == \"🐱 ih\"\n",
    "end\n",
    "if @isdefined(TEST_GRAPHEMES)\n",
    "    @eval @testset \"graphemes\" begin\n",
    "        @test myreverse(\"as⃝df̅\") == \"f̅ds⃝a\"\n",
    "        @test myreverse(\"hi 👋🏾\") == \"👋🏾 ih\"\n",
    "    end\n",
    "end"
   ]
  }
 ],
 "metadata": {
  "kernelspec": {
   "display_name": "Julia 1.7.3",
   "language": "julia",
   "name": "julia-1.7"
  },
  "language_info": {
   "file_extension": ".jl",
   "mimetype": "application/julia",
   "name": "julia",
   "version": "1.7.3"
  },
  "orig_nbformat": 4
 },
 "nbformat": 4,
 "nbformat_minor": 2
}
