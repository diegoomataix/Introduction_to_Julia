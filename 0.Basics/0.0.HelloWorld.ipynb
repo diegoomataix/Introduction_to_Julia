{
 "cells": [
  {
   "cell_type": "markdown",
   "metadata": {},
   "source": [
    "#### Instructions\n",
    "\n",
    "The classical introductory exercise. Just say \"Hello, World!\".\n",
    "\n",
    "\"Hello, World!\" is the traditional first program for beginning programming in a new language or environment.\n",
    "\n",
    "The objectives are simple:\n",
    "\n",
    "    - Write a function that returns the string \"Hello, World!\".\n",
    "    - Run the test suite and make sure that it succeeds.\n",
    "   "
   ]
  },
  {
   "cell_type": "code",
   "execution_count": 2,
   "metadata": {},
   "outputs": [
    {
     "data": {
      "text/plain": [
       "HelloWorld (generic function with 1 method)"
      ]
     },
     "metadata": {},
     "output_type": "display_data"
    }
   ],
   "source": [
    "function HelloWorld()\n",
    "    return \"Can Julia be better than Python?\"\n",
    "end"
   ]
  },
  {
   "cell_type": "code",
   "execution_count": 3,
   "metadata": {},
   "outputs": [
    {
     "data": {
      "text/plain": [
       "\"Can Julia be better than Python?\""
      ]
     },
     "metadata": {},
     "output_type": "display_data"
    }
   ],
   "source": [
    "HelloWorld()"
   ]
  },
  {
   "cell_type": "code",
   "execution_count": 7,
   "metadata": {},
   "outputs": [
    {
     "name": "stdout",
     "output_type": "stream",
     "text": [
      "Can Julia be better than Python?\n"
     ]
    }
   ],
   "source": [
    "# Could also try this:\n",
    "mystring = HelloWorld()\n",
    "println(mystring) # println formats the string for display"
   ]
  },
  {
   "cell_type": "markdown",
   "metadata": {},
   "source": [
    "### Some other basic but cool things:"
   ]
  },
  {
   "cell_type": "markdown",
   "metadata": {},
   "source": [
    "Note that to include a julia custom library or file, we use:\n",
    "\n",
    "include(\"0.0.HelloWorld.jl\")"
   ]
  },
  {
   "cell_type": "code",
   "execution_count": 15,
   "metadata": {},
   "outputs": [
    {
     "data": {
      "text/plain": [
       "\"α\""
      ]
     },
     "metadata": {},
     "output_type": "display_data"
    }
   ],
   "source": [
    "#= Something I really like is that you can use Greek letters in your code.\n",
    " For example, if you want to use the Greek letter \"alpha\", you can use the\n",
    " following code:\n",
    "=#\n",
    "\n",
    "function alpha()\n",
    "    return \"α\"\n",
    "end\n",
    "\n",
    "alpha()"
   ]
  },
  {
   "cell_type": "code",
   "execution_count": 18,
   "metadata": {},
   "outputs": [
    {
     "data": {
      "text/plain": [
       "String"
      ]
     },
     "metadata": {},
     "output_type": "display_data"
    }
   ],
   "source": [
    "# Checking the type\n",
    "typeof(alpha())"
   ]
  },
  {
   "cell_type": "code",
   "execution_count": 16,
   "metadata": {},
   "outputs": [
    {
     "data": {
      "text/plain": [
       "12.566370614359172"
      ]
     },
     "metadata": {},
     "output_type": "display_data"
    }
   ],
   "source": [
    "# or using π:\n",
    "\n",
    "function Area_circle(r)\n",
    "    return π*r^2\n",
    "end\n",
    "\n",
    "Area_circle(2)"
   ]
  },
  {
   "cell_type": "code",
   "execution_count": 20,
   "metadata": {},
   "outputs": [
    {
     "data": {
      "text/plain": [
       "Irrational{:π}"
      ]
     },
     "metadata": {},
     "output_type": "display_data"
    }
   ],
   "source": [
    "# Checking the type\n",
    "typeof(π)"
   ]
  },
  {
   "cell_type": "code",
   "execution_count": 21,
   "metadata": {},
   "outputs": [
    {
     "data": {
      "text/latex": [
       "$\\frac{x}{y} \\cdot \\cos\\left( \\alpha \\right)$"
      ],
      "text/plain": [
       "L\"$\\frac{x}{y} \\cdot \\cos\\left( \\alpha \\right)$\""
      ]
     },
     "metadata": {},
     "output_type": "display_data"
    }
   ],
   "source": [
    "#To render LaTeX, you can use the following code:\n",
    "\n",
    "using Latexify\n",
    "latexify(\"x/y * cos(α)\")"
   ]
  },
  {
   "cell_type": "markdown",
   "metadata": {},
   "source": [
    "#### How to debug:\n",
    "\n",
    "To help with debugging, you can use the fact that all console output will be captured and shown in the test results window. You can output any value by passing it to @show.\n",
    "\n",
    "@show shows an expression and its result, while returning its result."
   ]
  },
  {
   "cell_type": "code",
   "execution_count": 3,
   "metadata": {},
   "outputs": [
    {
     "name": "stdout",
     "output_type": "stream",
     "text": [
      "uppercase(\"hello\") = \"HELLO\"\n"
     ]
    },
    {
     "data": {
      "text/plain": [
       "\"HELLO\""
      ]
     },
     "metadata": {},
     "output_type": "display_data"
    }
   ],
   "source": [
    "@show uppercase(\"hello\") # HELLO will be shown as debug output"
   ]
  }
 ],
 "metadata": {
  "kernelspec": {
   "display_name": "Julia 1.7.3",
   "language": "julia",
   "name": "julia-1.7"
  },
  "language_info": {
   "file_extension": ".jl",
   "mimetype": "application/julia",
   "name": "julia",
   "version": "1.7.3"
  },
  "orig_nbformat": 4
 },
 "nbformat": 4,
 "nbformat_minor": 2
}
