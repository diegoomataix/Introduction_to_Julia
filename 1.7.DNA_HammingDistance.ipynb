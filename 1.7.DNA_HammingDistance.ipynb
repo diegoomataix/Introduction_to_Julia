{
 "cells": [
  {
   "cell_type": "markdown",
   "metadata": {},
   "source": [
    "#### Instructions\n",
    "\n",
    "Calculate the Hamming Distance between two DNA strands.\n",
    "\n",
    "Your body is made up of cells that contain DNA. Those cells regularly wear out and need replacing, which they achieve by dividing into daughter cells. In fact, the average human body experiences about 10 quadrillion cell divisions in a lifetime!\n",
    "\n",
    "When cells divide, their DNA replicates too. Sometimes during this process mistakes happen and single pieces of DNA get encoded with the incorrect information. If we compare two strands of DNA and count the differences between them we can see how many mistakes occurred. This is known as the \"Hamming Distance\".\n",
    "\n",
    "We read DNA using the letters C,A,G and T. Two strands might look like this:\n",
    "\n",
    "        GAGCCTACTAACGGGAT\n",
    "        CATCGTAATGACGGCCT\n",
    "        ^ ^ ^  ^ ^    ^^\n",
    "\n",
    "They have 7 differences, and therefore the Hamming Distance is 7.\n",
    "\n",
    "The Hamming Distance is useful for lots of things in science, not just biology, so it's a nice phrase to be familiar with :)\n",
    "\n",
    "The Hamming distance is only defined for sequences of equal length, so an attempt to calculate it between sequences of different lengths should not work. The general handling of this situation (e.g., raising an exception vs returning a special value) may differ between languages."
   ]
  },
  {
   "cell_type": "code",
   "execution_count": 1,
   "metadata": {},
   "outputs": [
    {
     "data": {
      "text/plain": [
       "distance (generic function with 1 method)"
      ]
     },
     "metadata": {},
     "output_type": "display_data"
    }
   ],
   "source": [
    "\"Calculates the Hamming Distance:\n",
    "    -Inputs:\n",
    "        a: DNA strand 1\n",
    "        b: DNA strand 2\n",
    "    -Outputs:\n",
    "        n: Hamming Distance\"\n",
    "\n",
    "function distance(a, b)\n",
    "    n=0\n",
    "    if length(a) == length(b)\n",
    "        for i ∈ 1:length(a)\n",
    "            if a[i] ≠ b[i]\n",
    "                n += 1 \n",
    "            end\n",
    "        end\n",
    "        return n\n",
    "    else\n",
    "        throw(ArgumentError(\"Error with $a, $b DNA strands\"))\n",
    "    end\n",
    "end\n"
   ]
  },
  {
   "cell_type": "markdown",
   "metadata": {},
   "source": [
    "Making the function to be more \"Julia-like\":"
   ]
  },
  {
   "cell_type": "code",
   "execution_count": 4,
   "metadata": {},
   "outputs": [
    {
     "data": {
      "text/plain": [
       "distance (generic function with 2 methods)"
      ]
     },
     "metadata": {},
     "output_type": "display_data"
    }
   ],
   "source": [
    "\"Calculates the Hamming Distance:\n",
    "    -Inputs:\n",
    "        a: DNA strand 1\n",
    "        b: DNA strand 2\n",
    "    -Outputs:\n",
    "        n: Hamming Distance\"\n",
    "\n",
    "function distance(a::AbstractString, b::AbstractString)\n",
    "    n=0; length(a) == length(b) ? (for i ∈ 1:length(a); a[i] ≠ b[i] ? (n += 1) : (n=n); end; return n) : throw(ArgumentError(\"Error with $a, $b DNA strands\"))\n",
    "end"
   ]
  },
  {
   "cell_type": "code",
   "execution_count": 5,
   "metadata": {},
   "outputs": [
    {
     "name": "stdout",
     "output_type": "stream",
     "text": [
      "\u001b[0m\u001b[1mTest Summary:     | \u001b[22m\u001b[32m\u001b[1mPass  \u001b[22m\u001b[39m\u001b[36m\u001b[1mTotal\u001b[22m\u001b[39m\n",
      "identical strands | \u001b[32m   2  \u001b[39m\u001b[36m    2\u001b[39m\n",
      "\u001b[0m\u001b[1mTest Summary:     | \u001b[22m\u001b[32m\u001b[1mPass  \u001b[22m\u001b[39m\u001b[36m\u001b[1mTotal\u001b[22m\u001b[39m\n",
      "complete distance | \u001b[32m   2  \u001b[39m\u001b[36m    2\u001b[39m\n",
      "\u001b[0m\u001b[1mTest Summary:  | \u001b[22m\u001b[32m\u001b[1mPass  \u001b[22m\u001b[39m\u001b[36m\u001b[1mTotal\u001b[22m\u001b[39m\n",
      "small distance | \u001b[32m   3  \u001b[39m\u001b[36m    3\u001b[39m\n",
      "\u001b[0m\u001b[1mTest Summary:         | \u001b[22m\u001b[32m\u001b[1mPass  \u001b[22m\u001b[39m\u001b[36m\u001b[1mTotal\u001b[22m\u001b[39m\n",
      "non-unique characters | \u001b[32m   2  \u001b[39m\u001b[36m    2\u001b[39m\n",
      "\u001b[0m\u001b[1mTest Summary:                           | \u001b[22m\u001b[32m\u001b[1mPass  \u001b[22m\u001b[39m\u001b[36m\u001b[1mTotal\u001b[22m\u001b[39m\n",
      "same nucleotides in different positions | \u001b[32m   1  \u001b[39m\u001b[36m    1\u001b[39m\n",
      "\u001b[0m\u001b[1mTest Summary:  | \u001b[22m\u001b[32m\u001b[1mPass  \u001b[22m\u001b[39m\u001b[36m\u001b[1mTotal\u001b[22m\u001b[39m\n",
      "large distance | \u001b[32m   2  \u001b[39m\u001b[36m    2\u001b[39m\n",
      "\u001b[0m\u001b[1mTest Summary: | \u001b[22m\u001b[32m\u001b[1mPass  \u001b[22m\u001b[39m\u001b[36m\u001b[1mTotal\u001b[22m\u001b[39m\n",
      "empty strands | \u001b[32m   1  \u001b[39m\u001b[36m    1\u001b[39m\n",
      "\u001b[0m\u001b[1mTest Summary:            | \u001b[22m\u001b[32m\u001b[1mPass  \u001b[22m\u001b[39m\u001b[36m\u001b[1mTotal\u001b[22m\u001b[39m\n",
      "different strand lengths | \u001b[32m   4  \u001b[39m\u001b[36m    4\u001b[39m\n"
     ]
    },
    {
     "data": {
      "text/plain": [
       "Test.DefaultTestSet(\"different strand lengths\", Any[], 4, false, false)"
      ]
     },
     "metadata": {},
     "output_type": "display_data"
    }
   ],
   "source": [
    "using Test\n",
    "\n",
    "@testset \"identical strands\" begin\n",
    "    @test distance(\"A\", \"A\") == 0\n",
    "    @test distance(\"GGACTGA\", \"GGACTGA\") == 0\n",
    "end\n",
    "\n",
    "\n",
    "@testset \"complete distance\" begin\n",
    "    @test distance(\"A\", \"G\") == 1\n",
    "    @test distance(\"AG\", \"CT\") == 2\n",
    "end\n",
    "\n",
    "@testset \"small distance\" begin\n",
    "    @test distance(\"AT\", \"CT\") == 1\n",
    "    @test distance(\"GGACG\", \"GGTCG\") == 1\n",
    "    @test distance(\"ACCAGGG\", \"ACTATGG\") == 2\n",
    "end \n",
    "\n",
    "@testset \"non-unique characters\" begin\n",
    "    @test distance(\"AGA\", \"AGG\") == 1\n",
    "    @test distance(\"AGG\", \"AGA\") == 1\n",
    "end\n",
    "\n",
    "@testset \"same nucleotides in different positions\" begin\n",
    "    @test distance(\"TAG\", \"GAT\") == 2\n",
    "end\n",
    "\n",
    "@testset \"large distance\" begin\n",
    "    @test distance(\"GATACA\", \"GCATAA\") == 4\n",
    "    @test distance(\"GGACGGATTCTG\", \"AGGACGGATTCT\") == 9\n",
    "end\n",
    "\n",
    "@testset \"empty strands\" begin\n",
    "    @test distance(\"\", \"\") == 0\n",
    "end\n",
    "\n",
    "@testset \"different strand lengths\" begin\n",
    "    @test_throws ArgumentError distance(\"AATG\", \"AAA\")\n",
    "    @test_throws ArgumentError distance(\"ATA\", \"AGTG\")\n",
    "    @test_throws ArgumentError distance(\"\", \"G\")\n",
    "    @test_throws ArgumentError distance(\"G\", \"\")\n",
    "end"
   ]
  }
 ],
 "metadata": {
  "kernelspec": {
   "display_name": "Julia 1.7.3",
   "language": "julia",
   "name": "julia-1.7"
  },
  "language_info": {
   "file_extension": ".jl",
   "mimetype": "application/julia",
   "name": "julia",
   "version": "1.7.3"
  },
  "orig_nbformat": 4
 },
 "nbformat": 4,
 "nbformat_minor": 2
}
