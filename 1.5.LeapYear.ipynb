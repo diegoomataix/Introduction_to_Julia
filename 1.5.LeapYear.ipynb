{
 "cells": [
  {
   "cell_type": "markdown",
   "metadata": {},
   "source": [
    "#### Instructions\n",
    "Given a year, report if it is a leap year.\n",
    "\n",
    "The tricky thing here is that a leap year in the Gregorian calendar occurs:\n",
    "\n",
    "- on every year that is evenly divisible by 4\n",
    "    - except every year that is evenly divisible by 100\n",
    "        -  unless the year is also evenly divisible by 400\n",
    "    \n",
    "For example, 1997 is not a leap year, but 1996 is. 1900 is not a leap year, but 2000 is.\n",
    "Notes"
   ]
  },
  {
   "cell_type": "code",
   "execution_count": 25,
   "metadata": {},
   "outputs": [
    {
     "data": {
      "text/plain": [
       "is_leap_year"
      ]
     },
     "metadata": {},
     "output_type": "display_data"
    }
   ],
   "source": [
    "\"\"\"\n",
    "\n",
    "Return `true` if `year` is a leap year in the gregorian calendar.\n",
    "\n",
    "\"\"\"\n",
    "function is_leap_year(year::Int)\n",
    "    year % 4 == 0 ? (year % 100 == 0 ? (year % 400 == 0 ? true : false) : true) : false\n",
    "end\n",
    "\n"
   ]
  },
  {
   "cell_type": "code",
   "execution_count": 26,
   "metadata": {},
   "outputs": [
    {
     "name": "stdout",
     "output_type": "stream",
     "text": [
      "\u001b[0m\u001b[1mTest Summary:                        | \u001b[22m\u001b[32m\u001b[1mPass  \u001b[22m\u001b[39m\u001b[36m\u001b[1mTotal\u001b[22m\u001b[39m\n",
      "Year not divisible by 4: common year | \u001b[32m   1  \u001b[39m\u001b[36m    1\u001b[39m\n",
      "\u001b[0m\u001b[1mTest Summary:                                        | \u001b[22m\u001b[32m\u001b[1mPass  \u001b[22m\u001b[39m\u001b[36m\u001b[1mTotal\u001b[22m\u001b[39m\n",
      "Year divisible by 2, not divisible by 4: common year | \u001b[32m   1  \u001b[39m\u001b[36m    1\u001b[39m\n",
      "\u001b[0m\u001b[1mTest Summary:                                        | \u001b[22m\u001b[32m\u001b[1mPass  \u001b[22m\u001b[39m\u001b[36m\u001b[1mTotal\u001b[22m\u001b[39m\n",
      "Year divisible by 4, not divisible by 100: leap year | \u001b[32m   1  \u001b[39m\u001b[36m    1\u001b[39m\n",
      "\u001b[0m\u001b[1mTest Summary:                        | \u001b[22m\u001b[32m\u001b[1mPass  \u001b[22m\u001b[39m\u001b[36m\u001b[1mTotal\u001b[22m\u001b[39m\n",
      "Year divisible by 4 and 5: leap year | \u001b[32m   1  \u001b[39m\u001b[36m    1\u001b[39m\n",
      "\u001b[0m\u001b[1mTest Summary:                                        | \u001b[22m\u001b[32m\u001b[1mPass  \u001b[22m\u001b[39m\u001b[36m\u001b[1mTotal\u001b[22m\u001b[39m\n",
      "Year divisible by 4, not divisible by 100: leap year | \u001b[32m   1  \u001b[39m\u001b[36m    1\u001b[39m\n",
      "\u001b[0m\u001b[1mTest Summary:                                            | \u001b[22m\u001b[32m\u001b[1mPass  \u001b[22m\u001b[39m\u001b[36m\u001b[1mTotal\u001b[22m\u001b[39m\n",
      "Year divisible by 100, not divisible by 400: common year | \u001b[32m   1  \u001b[39m\u001b[36m    1\u001b[39m\n",
      "\u001b[0m\u001b[1mTest Summary:                                   | \u001b[22m\u001b[32m\u001b[1mPass  \u001b[22m\u001b[39m\u001b[36m\u001b[1mTotal\u001b[22m\u001b[39m\n",
      "Year divisible by 100 but not by 3: common year | \u001b[32m   1  \u001b[39m\u001b[36m    1\u001b[39m\n",
      "\u001b[0m\u001b[1mTest Summary:                    | \u001b[22m\u001b[32m\u001b[1mPass  \u001b[22m\u001b[39m\u001b[36m\u001b[1mTotal\u001b[22m\u001b[39m\n",
      "Year divisible by 400: leap year | \u001b[32m   1  \u001b[39m\u001b[36m    1\u001b[39m\n"
     ]
    },
    {
     "name": "stdout",
     "output_type": "stream",
     "text": [
      "\u001b[0m\u001b[1mTest Summary:                                   | \u001b[22m\u001b[32m\u001b[1mPass  \u001b[22m\u001b[39m\u001b[36m\u001b[1mTotal\u001b[22m\u001b[39m\n",
      "Year divisible by 400 but not by 125: leap year | \u001b[32m   1  \u001b[39m\u001b[36m    1\u001b[39m\n",
      "\u001b[0m\u001b[1mTest Summary:                                            | \u001b[22m\u001b[32m\u001b[1mPass  \u001b[22m\u001b[39m\u001b[36m\u001b[1mTotal\u001b[22m\u001b[39m\n",
      "Year divisible by 200, not divisible by 400: common year | \u001b[32m   1  \u001b[39m\u001b[36m    1\u001b[39m\n"
     ]
    },
    {
     "data": {
      "text/plain": [
       "Test.DefaultTestSet(\"Year divisible by 200, not divisible by 400: common year\", Any[], 1, false, false)"
      ]
     },
     "metadata": {},
     "output_type": "display_data"
    }
   ],
   "source": [
    "using Test\n",
    "\n",
    "@testset \"Year not divisible by 4: common year\" begin\n",
    "    @test !is_leap_year(2015)\n",
    "end\n",
    "\n",
    "@testset \"Year divisible by 2, not divisible by 4: common year\" begin\n",
    "    @test !is_leap_year(1970)\n",
    "end\n",
    "\n",
    "@testset \"Year divisible by 4, not divisible by 100: leap year\" begin\n",
    "    @test is_leap_year(1996)\n",
    "end\n",
    "\n",
    "@testset \"Year divisible by 4 and 5: leap year\" begin\n",
    "    @test is_leap_year(1960)\n",
    "end\n",
    "\n",
    "@testset \"Year divisible by 4, not divisible by 100: leap year\" begin\n",
    "    @test is_leap_year(2016)\n",
    "end\n",
    "\n",
    "@testset \"Year divisible by 100, not divisible by 400: common year\" begin\n",
    "    @test !is_leap_year(2100)     \n",
    "end\n",
    "\n",
    "@testset \"Year divisible by 100 but not by 3: common year\" begin\n",
    "    @test !is_leap_year(1900)\n",
    "end\n",
    "\n",
    "@testset \"Year divisible by 400: leap year\" begin\n",
    "    @test is_leap_year(2000)\n",
    "end\n",
    "\n",
    "@testset \"Year divisible by 400 but not by 125: leap year\" begin\n",
    "    @test is_leap_year(2400)\n",
    "end   \n",
    "\n",
    "@testset \"Year divisible by 200, not divisible by 400: common year\" begin    \n",
    "    @test !is_leap_year(1800)\n",
    "end      "
   ]
  }
 ],
 "metadata": {
  "kernelspec": {
   "display_name": "Julia 1.7.3",
   "language": "julia",
   "name": "julia-1.7"
  },
  "language_info": {
   "file_extension": ".jl",
   "mimetype": "application/julia",
   "name": "julia",
   "version": "1.7.3"
  },
  "orig_nbformat": 4
 },
 "nbformat": 4,
 "nbformat_minor": 2
}
