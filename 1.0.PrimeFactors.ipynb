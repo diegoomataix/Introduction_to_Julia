{
 "cells": [
  {
   "cell_type": "markdown",
   "metadata": {},
   "source": [
    "#### Instructions\n",
    "\n",
    "Compute the prime factors of a given natural number.\n",
    "\n",
    "A prime number is only evenly divisible by itself and 1.\n",
    "\n",
    "Note that 1 is not a prime number.\n",
    "Example\n",
    "\n",
    "What are the prime factors of 60?\n",
    "\n",
    "    Our first divisor is 2. 2 goes into 60, leaving 30.\n",
    "    2 goes into 30, leaving 15.\n",
    "        2 doesn't go cleanly into 15. So let's move on to our next divisor, 3.\n",
    "    3 goes cleanly into 15, leaving 5.\n",
    "        3 does not go cleanly into 5. The next possible factor is 4.\n",
    "        4 does not go cleanly into 5. The next possible factor is 5.\n",
    "    5 does go cleanly into 5.\n",
    "    We're left only with 1, so now, we're done.\n",
    "\n",
    "Our successful divisors in that computation represent the list of prime factors of 60: 2, 2, 3, and 5.\n",
    "\n",
    "You can check this yourself:\n",
    "\n",
    "    2 * 2 * 3 * 5\n",
    "    = 4 * 15\n",
    "    = 60\n",
    "    Success!\n"
   ]
  },
  {
   "cell_type": "code",
   "execution_count": 1,
   "metadata": {},
   "outputs": [
    {
     "data": {
      "text/plain": [
       "PrimeFactors (generic function with 1 method)"
      ]
     },
     "metadata": {},
     "output_type": "display_data"
    }
   ],
   "source": [
    "function PrimeFactors(n::Int)::Array{Int,1}\n",
    "    \"\"\"\n",
    "    Compute the prime factors of a given natural number, n. Function written in Julia.\n",
    "    A prime number is only evenly divisible by itself and 1.\n",
    "    Note that 1 is not a prime number.\n",
    "    \"\"\"\n",
    "    primes = []\n",
    "\n",
    "    while n != 1\n",
    "        i = 2\n",
    "        while true\n",
    "            if n % i == 0\n",
    "                break\n",
    "            end\n",
    "            i += 1\n",
    "        end\n",
    "        push!(primes, i)\n",
    "        n = n / i\n",
    "    end\n",
    "    return primes\n",
    "end"
   ]
  },
  {
   "cell_type": "code",
   "execution_count": 7,
   "metadata": {},
   "outputs": [
    {
     "data": {
      "text/plain": [
       "4-element Vector{Int64}:\n",
       " 2\n",
       " 2\n",
       " 3\n",
       " 5"
      ]
     },
     "metadata": {},
     "output_type": "display_data"
    }
   ],
   "source": [
    "PrimeFactors(60)"
   ]
  }
 ],
 "metadata": {
  "kernelspec": {
   "display_name": "Julia 1.7.3",
   "language": "julia",
   "name": "julia-1.7"
  },
  "language_info": {
   "file_extension": ".jl",
   "mimetype": "application/julia",
   "name": "julia",
   "version": "1.7.3"
  },
  "orig_nbformat": 4
 },
 "nbformat": 4,
 "nbformat_minor": 2
}
