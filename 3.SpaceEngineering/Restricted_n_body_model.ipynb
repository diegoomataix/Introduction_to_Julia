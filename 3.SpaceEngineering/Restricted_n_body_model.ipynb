{
 "cells": [
  {
   "cell_type": "markdown",
   "metadata": {},
   "source": [
    "Source: \n",
    "\n",
    "\n",
    "  @inproceedings{OrbitalTrajectories,\n",
    "    url = {https://www.researchgate.net/publication/348929030_Modern_Numerical_Programming_with_Julia_for_Astrodynamic_Trajectory_Design},\n",
    "    year = {2021},\n",
    "    publisher = {AAS/AIAA},\n",
    "    author = {Padilha, Dan and Dei Tos, Diogene Alessandro and Baresi, Nicola and Kawaguchi, Junichiro},\n",
    "    title = {Modern Numerical Programming with Julia for Astrodynamic Trajectory Design},\n",
    "    booktitle = {31st AAS/AIAA Space Flight Mechanics Meeting}\n",
    "  }\n",
    "  "
   ]
  },
  {
   "cell_type": "code",
   "execution_count": 1,
   "metadata": {},
   "outputs": [],
   "source": [
    "using ModelingToolkit\n",
    "using DifferentialEquations\n",
    "using Plots"
   ]
  },
  {
   "cell_type": "code",
   "execution_count": 2,
   "metadata": {},
   "outputs": [
    {
     "data": {
      "text/plain": [
       "r (generic function with 1 method)"
      ]
     },
     "metadata": {},
     "output_type": "display_data"
    }
   ],
   "source": [
    "r(μ, pos) = @. norm((pos - [-μ, 0., 0.], pos - [1 - μ, 0., 0.]))"
   ]
  },
  {
   "cell_type": "code",
   "execution_count": 3,
   "metadata": {},
   "outputs": [
    {
     "data": {
      "text/plain": [
       "Ω_3 (generic function with 1 method)"
      ]
     },
     "metadata": {},
     "output_type": "display_data"
    }
   ],
   "source": [
    "Ω_3(μ, (x, y, z)) = 0.5*(x^2+y^2) + sum(((1-μ), μ) ./ r(μ,(x,y,z))) + 0.5*μ*(1-μ)"
   ]
  },
  {
   "cell_type": "code",
   "execution_count": 4,
   "metadata": {},
   "outputs": [
    {
     "data": {
      "text/plain": [
       "ω (generic function with 1 method)"
      ]
     },
     "metadata": {},
     "output_type": "display_data"
    }
   ],
   "source": [
    "ω(μ, e, f, (x, y, z)) = (Ω_3(μ,(x,y,z)) - 0.5*z^2*e*cos(f)) / (1 + e*cos(f))"
   ]
  },
  {
   "cell_type": "code",
   "execution_count": 5,
   "metadata": {},
   "outputs": [],
   "source": [
    "abstract type AstrodynamicalModel end      # Super-type of all astrodynamical models\n",
    "struct _ER3BP <: AstrodynamicalModel end   # Concrete representation of ER3BP equations\n",
    "\n",
    "function ModelingToolkit.ODESystem(::Type{_ER3BP})\n",
    "    @parameters μ e f               # Mass fraction, eccentricity, true anomaly\n",
    "    @variables x(f) y(f) z(f)       # Position variables as functions of true anomaly\n",
    "    @derivatives D'~f D2''~f        # Derivatives with respect to true anomaly\n",
    "    @derivatives Dx'~x Dy'~y Dz'~z  # Derivatives with respect to position\n",
    "    _ω = ω(μ, e, f, (x, y, z))      # Call math functions using symbolic variables\n",
    "    return ODESystem([\n",
    "            D2(x) ~ +2D(y) + Dx(_ω),\n",
    "            D2(y) ~ -2D(x) + Dy(_ω),    # Equations of motion\n",
    "            D2(z) ~ +Dz(_ω)\n",
    "        ], f, [x, y, z], [μ, e])        # Independent variable, state variable, parameters\n",
    "\n",
    "end"
   ]
  },
  {
   "cell_type": "markdown",
   "metadata": {},
   "source": [
    "Example Julia code for constructing any arbitrary astrodynamical model, allowing the Julia\n",
    "JIT compiler to automatically generate specialised, performant versions of its propagation\n",
    "function directly from high-order differential equations."
   ]
  },
  {
   "cell_type": "code",
   "execution_count": 6,
   "metadata": {},
   "outputs": [],
   "source": [
    "struct _ER3BP_ODEFunctions{S,F,F2} <: AstrodynamicalModel\n",
    "    ode_system::S\n",
    "    ode_f::F\n",
    "    ode_stm_f::F2\n",
    "end"
   ]
  },
  {
   "cell_type": "code",
   "execution_count": 7,
   "metadata": {},
   "outputs": [],
   "source": [
    "function (T::Type{<:AstrodynamicalModel})(args...; kwargs...)\n",
    "    # Expand and lower model to a 1st-order system of differential equations\n",
    "    _ODE = ODESystem(T, args...; kwargs...)\n",
    "    _eqs = expand_derivatives.(equations(_ODE))\n",
    "    eqs, states = ode_order_lowering(_eqs, independent_variable(_ODE), states(_ODE))\n",
    "    ODE = ODESystem(simplify.(eqs), independent_variable(_ODE), states, parameters(_ODE))\n",
    "    return ODEFunction(ODE) # Generate integration functions automatically\n",
    "end"
   ]
  }
 ],
 "metadata": {
  "kernelspec": {
   "display_name": "Julia 1.7.3",
   "language": "julia",
   "name": "julia-1.7"
  },
  "language_info": {
   "file_extension": ".jl",
   "mimetype": "application/julia",
   "name": "julia",
   "version": "1.7.3"
  },
  "orig_nbformat": 4
 },
 "nbformat": 4,
 "nbformat_minor": 2
}
